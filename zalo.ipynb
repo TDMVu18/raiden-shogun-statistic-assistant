{
 "cells": [
  {
   "cell_type": "code",
   "execution_count": 1,
   "metadata": {},
   "outputs": [
    {
     "name": "stdout",
     "output_type": "stream",
     "text": [
      "Defaulting to user installation because normal site-packages is not writeable\n",
      "Collecting requests\n",
      "  Downloading requests-2.32.3-py3-none-any.whl.metadata (4.6 kB)\n",
      "Collecting charset-normalizer<4,>=2 (from requests)\n",
      "  Downloading charset_normalizer-3.3.2-cp310-cp310-win_amd64.whl.metadata (34 kB)\n",
      "Collecting idna<4,>=2.5 (from requests)\n",
      "  Downloading idna-3.7-py3-none-any.whl.metadata (9.9 kB)\n",
      "Collecting urllib3<3,>=1.21.1 (from requests)\n",
      "  Downloading urllib3-2.2.2-py3-none-any.whl.metadata (6.4 kB)\n",
      "Collecting certifi>=2017.4.17 (from requests)\n",
      "  Downloading certifi-2024.7.4-py3-none-any.whl.metadata (2.2 kB)\n",
      "Downloading requests-2.32.3-py3-none-any.whl (64 kB)\n",
      "Downloading certifi-2024.7.4-py3-none-any.whl (162 kB)\n",
      "Downloading charset_normalizer-3.3.2-cp310-cp310-win_amd64.whl (100 kB)\n",
      "Downloading idna-3.7-py3-none-any.whl (66 kB)\n",
      "Downloading urllib3-2.2.2-py3-none-any.whl (121 kB)\n",
      "Installing collected packages: urllib3, idna, charset-normalizer, certifi, requests\n",
      "Successfully installed certifi-2024.7.4 charset-normalizer-3.3.2 idna-3.7 requests-2.32.3 urllib3-2.2.2\n"
     ]
    }
   ],
   "source": [
    "!pip install requests"
   ]
  },
  {
   "cell_type": "code",
   "execution_count": 23,
   "metadata": {},
   "outputs": [],
   "source": [
    "import requests as req\n",
    "uri = \"https://oauth.zaloapp.com/v4/oa/access_token\"\n",
    "auth = {'Secret_key': '14p63uLCY20Os68NFWIU'}"
   ]
  },
  {
   "cell_type": "code",
   "execution_count": 27,
   "metadata": {},
   "outputs": [],
   "source": [
    "body = {'app_id': '1888287946753069132',\n",
    "        'code': 'EP2zaWTGwdrLuDEl4bJbHtcvdezuRDDUDxRhjWmHh2aAv-dqQ53KL07Su81v2gL8UjpieI8ewKyfdP7lBctGEa_OwUeHKkiBV9QQz7b0qoKxb_h802g6OLtSo-XjVSGQTypqmLWHi5rLnwk06XwMQnMkij82TOXHB9tltJCtsH98yuE_5d-UD1dljwLnICqCORw1m1KlbHPVaRQF8a7jLLJJvDr9PuXWFectrZLyznHIozpSPmQB9s6krVqw9STyOe6hm3LfoNb8nypwSIFeApsHnUeqLU8LKDRza5fSL7rcsZ-MM2m8kGIUC6nBBmAwC_CmKGGbQQ1zncHVGW4ZndJdKoatV9glQV-PJkPIpLBHiBIsY0BzFfV0alMCKhj0_eQQwQXCi5Yow9M1m2w-GEoJxhaqmBXV0Hds2m',\n",
    "        'grant_type': 'authorization_code'\n",
    "        }"
   ]
  },
  {
   "cell_type": "code",
   "execution_count": 28,
   "metadata": {},
   "outputs": [],
   "source": [
    "res = req.post(uri, data=body, headers=auth)"
   ]
  },
  {
   "cell_type": "code",
   "execution_count": 29,
   "metadata": {},
   "outputs": [
    {
     "data": {
      "text/plain": [
       "'{\"access_token\":\"AvqiBb9URdiad2eWKb9fVIMGA2DMHGe2ReWKGbuPLHbOqsS7GrywM6Fc16nGRar5TjmCScTmCdj7lJX6Q7PyOsheF3vg93KK6hrn2J4oG0mcv0HI3cep2Gpt6H4yQLjEJQ5f4JjjS4fEuKjgVKDmVdNeK71u8N0jVQvk55udJXr-ZNqHQK1kDclkNJLOMcKWBvOZ0m054Gzqg0ijVI9ECsYyR6jm17LE0ASoT7KN2qz7c34MPmK28s6t1tTEDJD3M84AUKmt7sHeXorwGpbbHNhtTbXDN4uCVi9TCsfG73zpsmSyLK8516NBDXjFLWKtNlGi4YizAJq7jnKP6HPG61ROKKCs6sbyHxDiA4yvAn8tyJmd3aKjBGJA6GeX0JmcKv4k9MiB4YqUl10YFYHL33xdRIGLIojuE47xS6rUI6rx\",\"refresh_token\":\"mLt60UlcXNpENC0Fw-g2UizGmWpl_T4ehZcKMTxqerIy09Pbs-cf5Oe5uJh8xTCIgntqEkxTwJA5DgWKmFhiDVz9sIdKyvWWYXEyCUtV-1MP7xu_uSIdFPOCcJ3flDyNiLBXFDA5fHYjPUqD_87E4DPr-JYXfkqDv57V0yA-dJQ22Dq3uSAQSC82kNQ0ivfuraVO2v2To0JIR8WDZBlAFFfNWa-9ig4vpmZf2PN6qJ_zAVC9YPZbBgesq1dMqf4jzcJG9eMDuXFXUj80oesRAuzStrpPajHf_r_gPxtirdlkFEjli-MlPCiFa6ITngvIs2_gNVpKuYpMP_ukiT75Ey0TW3Q8fiahgdhP6SwNdm-OKzXvuRJ5SiOQs7wVgvvkp4EcIhg2etx6D-fQhUUZKcKIWt55v_26V0\",\"expires_in\":\"90000\"}'"
      ]
     },
     "execution_count": 29,
     "metadata": {},
     "output_type": "execute_result"
    }
   ],
   "source": [
    "res.text"
   ]
  },
  {
   "cell_type": "code",
   "execution_count": 16,
   "metadata": {},
   "outputs": [],
   "source": [
    "uri1 = 'https://openapi.zalo.me/v2.0/oa/conversation?data={\"user_id\":1696434873920451916,\"offset\":0,\"count\":1}'\n",
    "auth1 = {\"access_token\": \"o5kgMxZMwcV7MgnLkDhjOSPMhbQypUa7fJ31UOxqsmoUDyja--t98e4Fw4I7_FCsZYhbHBJShYdE8R1ytCIf8kusi7RenQmY-aMTL_USXJ-CQu82ePArVfvJjpY9Z9rDfq2S29k5jrwU1VKqZ_prPeOWyWI9vRbdztsvD_scgLxbSh4Y-_QdJVunWNt2nQegk22q5uBDatczJ9iAnix4VxuCsJIxWC56fWtb2RV9yqkc6UmZlkRESxmznYMbvkj0dp_e4QJW_bggPDWMYfl4GhjVs3ouXlDJfLlu3fNQu3cgNV5jbOd6H8XUvnQpdVDmh47U0fUXsMMOHyaIjP-BTBjfoIh4ZevUmswuDkMvWM3BMyfLzPRSCjjAp0QZb8rcgKsv4gkPcI6q5BzihEwu0ACClbk8oOe8IBLo1BJ0wMS\"}"
   ]
  },
  {
   "cell_type": "code",
   "execution_count": 21,
   "metadata": {},
   "outputs": [],
   "source": [
    "res1 = req.get(uri1, headers=auth1)"
   ]
  },
  {
   "cell_type": "code",
   "execution_count": 22,
   "metadata": {},
   "outputs": [
    {
     "data": {
      "text/plain": [
       "'{\"data\":[{\"src\":1,\"time\":1723996281374,\"sent_time\":\"22:51:21 18/08/2024\",\"from_id\":\"1696434873920451916\",\"from_display_name\":\"Vũ\",\"from_avatar\":\"https://s240-ava-talk.zadn.vn/e/7/6/1/7/240/f2fb218e00863b59c3f81791f6c5e780.jpg\",\"to_id\":\"2369284118391448762\",\"to_display_name\":\"Gcalls Test\",\"to_avatar\":\"https://s240-ava-talk.zadn.vn/9/e/1/c/1/240/54bde55c5350732f5a87581f2b905c30.jpg\",\"message_id\":\"2a842f24283bf860a12f\",\"type\":\"text\",\"message\":\"Raiden Bot là cái gì ?\"}],\"error\":0,\"message\":\"Success\"}'"
      ]
     },
     "execution_count": 22,
     "metadata": {},
     "output_type": "execute_result"
    }
   ],
   "source": [
    "res1.text"
   ]
  }
 ],
 "metadata": {
  "kernelspec": {
   "display_name": "base",
   "language": "python",
   "name": "python3"
  },
  "language_info": {
   "codemirror_mode": {
    "name": "ipython",
    "version": 3
   },
   "file_extension": ".py",
   "mimetype": "text/x-python",
   "name": "python",
   "nbconvert_exporter": "python",
   "pygments_lexer": "ipython3",
   "version": "3.10.0"
  }
 },
 "nbformat": 4,
 "nbformat_minor": 2
}
