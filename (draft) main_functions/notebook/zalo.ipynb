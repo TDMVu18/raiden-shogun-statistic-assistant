{
 "cells": [
  {
   "cell_type": "code",
   "execution_count": 1,
   "metadata": {},
   "outputs": [
    {
     "name": "stdout",
     "output_type": "stream",
     "text": [
      "Defaulting to user installation because normal site-packages is not writeable\n",
      "Collecting requests\n",
      "  Downloading requests-2.32.3-py3-none-any.whl.metadata (4.6 kB)\n",
      "Collecting charset-normalizer<4,>=2 (from requests)\n",
      "  Downloading charset_normalizer-3.3.2-cp310-cp310-win_amd64.whl.metadata (34 kB)\n",
      "Collecting idna<4,>=2.5 (from requests)\n",
      "  Downloading idna-3.7-py3-none-any.whl.metadata (9.9 kB)\n",
      "Collecting urllib3<3,>=1.21.1 (from requests)\n",
      "  Downloading urllib3-2.2.2-py3-none-any.whl.metadata (6.4 kB)\n",
      "Collecting certifi>=2017.4.17 (from requests)\n",
      "  Downloading certifi-2024.7.4-py3-none-any.whl.metadata (2.2 kB)\n",
      "Downloading requests-2.32.3-py3-none-any.whl (64 kB)\n",
      "Downloading certifi-2024.7.4-py3-none-any.whl (162 kB)\n",
      "Downloading charset_normalizer-3.3.2-cp310-cp310-win_amd64.whl (100 kB)\n",
      "Downloading idna-3.7-py3-none-any.whl (66 kB)\n",
      "Downloading urllib3-2.2.2-py3-none-any.whl (121 kB)\n",
      "Installing collected packages: urllib3, idna, charset-normalizer, certifi, requests\n",
      "Successfully installed certifi-2024.7.4 charset-normalizer-3.3.2 idna-3.7 requests-2.32.3 urllib3-2.2.2\n"
     ]
    }
   ],
   "source": [
    "!pip install requests"
   ]
  },
  {
   "cell_type": "code",
   "execution_count": 1,
   "metadata": {},
   "outputs": [],
   "source": [
    "import requests as req\n",
    "uri = \"https://oauth.zaloapp.com/v4/oa/access_token\"\n",
    "auth = {'Secret_key': '14p63uLCY20Os68NFWIU'}"
   ]
  },
  {
   "cell_type": "code",
   "execution_count": 27,
   "metadata": {},
   "outputs": [],
   "source": [
    "body = {'app_id': '1888287946753069132',\n",
    "        'code': 'EP2zaWTGwdrLuDEl4bJbHtcvdezuRDDUDxRhjWmHh2aAv-dqQ53KL07Su81v2gL8UjpieI8ewKyfdP7lBctGEa_OwUeHKkiBV9QQz7b0qoKxb_h802g6OLtSo-XjVSGQTypqmLWHi5rLnwk06XwMQnMkij82TOXHB9tltJCtsH98yuE_5d-UD1dljwLnICqCORw1m1KlbHPVaRQF8a7jLLJJvDr9PuXWFectrZLyznHIozpSPmQB9s6krVqw9STyOe6hm3LfoNb8nypwSIFeApsHnUeqLU8LKDRza5fSL7rcsZ-MM2m8kGIUC6nBBmAwC_CmKGGbQQ1zncHVGW4ZndJdKoatV9glQV-PJkPIpLBHiBIsY0BzFfV0alMCKhj0_eQQwQXCi5Yow9M1m2w-GEoJxhaqmBXV0Hds2m',\n",
    "        'grant_type': 'authorization_code'\n",
    "        }"
   ]
  },
  {
   "cell_type": "code",
   "execution_count": 28,
   "metadata": {},
   "outputs": [],
   "source": [
    "res = req.post(uri, data=body, headers=auth)"
   ]
  },
  {
   "cell_type": "code",
   "execution_count": 29,
   "metadata": {},
   "outputs": [
    {
     "data": {
      "text/plain": [
       "'{\"access_token\":\"AvqiBb9URdiad2eWKb9fVIMGA2DMHGe2ReWKGbuPLHbOqsS7GrywM6Fc16nGRar5TjmCScTmCdj7lJX6Q7PyOsheF3vg93KK6hrn2J4oG0mcv0HI3cep2Gpt6H4yQLjEJQ5f4JjjS4fEuKjgVKDmVdNeK71u8N0jVQvk55udJXr-ZNqHQK1kDclkNJLOMcKWBvOZ0m054Gzqg0ijVI9ECsYyR6jm17LE0ASoT7KN2qz7c34MPmK28s6t1tTEDJD3M84AUKmt7sHeXorwGpbbHNhtTbXDN4uCVi9TCsfG73zpsmSyLK8516NBDXjFLWKtNlGi4YizAJq7jnKP6HPG61ROKKCs6sbyHxDiA4yvAn8tyJmd3aKjBGJA6GeX0JmcKv4k9MiB4YqUl10YFYHL33xdRIGLIojuE47xS6rUI6rx\",\"refresh_token\":\"mLt60UlcXNpENC0Fw-g2UizGmWpl_T4ehZcKMTxqerIy09Pbs-cf5Oe5uJh8xTCIgntqEkxTwJA5DgWKmFhiDVz9sIdKyvWWYXEyCUtV-1MP7xu_uSIdFPOCcJ3flDyNiLBXFDA5fHYjPUqD_87E4DPr-JYXfkqDv57V0yA-dJQ22Dq3uSAQSC82kNQ0ivfuraVO2v2To0JIR8WDZBlAFFfNWa-9ig4vpmZf2PN6qJ_zAVC9YPZbBgesq1dMqf4jzcJG9eMDuXFXUj80oesRAuzStrpPajHf_r_gPxtirdlkFEjli-MlPCiFa6ITngvIs2_gNVpKuYpMP_ukiT75Ey0TW3Q8fiahgdhP6SwNdm-OKzXvuRJ5SiOQs7wVgvvkp4EcIhg2etx6D-fQhUUZKcKIWt55v_26V0\",\"expires_in\":\"90000\"}'"
      ]
     },
     "execution_count": 29,
     "metadata": {},
     "output_type": "execute_result"
    }
   ],
   "source": [
    "res.text"
   ]
  },
  {
   "cell_type": "code",
   "execution_count": 43,
   "metadata": {},
   "outputs": [],
   "source": [
    "uri1 = 'https://openapi.zalo.me/v2.0/oa/conversation?data={\"user_id\":1696434873920451916,\"offset\":0,\"count\":1}'\n",
    "uri2 = 'https://openapi.zalo.me/v2.0/oa/listrecentchat?data={\"offset\":0,\"count\":1}'\n",
    "auth1 = {\"access_token\": \"NwxtN7xncW9Gh_5IVlsT156Zyr5wwkLM9jVBIK-7xXmHW_83V8_UDYEGiWTSaBeoCeUT5sIDbpmmiBq8Mh2N9G2H_n9GlT4XEfN77rAnpnulWFC1RepZFnoks0XsdFK01fha0MZGs4e_mSuROUd_6o6zooXEhDCXEA7W65AXnpKczzqqTlZh01VPyZzMYSu-A9tdTMAIZs4-kxH82e-yQNM-gpO-WvSJLukCB2EQYZnpoxOLFVhPFq3-vGa3_krVBjlyVr-DprqjaDDFVBt_VmITmKWidEWOO8_LJXwXvsPThuvF1lhcKIZQ_K5tvCz87xl3I36UnXXhjQ4ND8gn66A1tpGZZUmvRiVMCGtvn6TBf-5FAgleP46kZrCybe9UThAO2nsTgJncduDeCB6OIbZcg4afvB1u6MTVPdBdcG8\"}"
   ]
  },
  {
   "cell_type": "code",
   "execution_count": 38,
   "metadata": {},
   "outputs": [
    {
     "data": {
      "text/plain": [
       "'a'"
      ]
     },
     "execution_count": 38,
     "metadata": {},
     "output_type": "execute_result"
    }
   ],
   "source": [
    "res1 = req.get(uri2, headers=auth1)\n",
    "res1.json()['data'][0]['message']"
   ]
  },
  {
   "cell_type": "code",
   "execution_count": 7,
   "metadata": {},
   "outputs": [],
   "source": [
    "def get_authorization_url():\n",
    "    base_url = \"https://oauth.zaloapp.com/v4/oa/permission\"\n",
    "    # https://oauth.zaloapp.com/v4/oa/permission?app_id=4216827570484676804&redirect_uri=http://localhost:8000\n",
    "    params = {\n",
    "        \"app_id\": \"1888287946753069132\",\n",
    "        \"redirect_uri\": \"https://localhost:3000/\",\n",
    "        # \"code_challenge\": code_challenge,\n",
    "        # \"state\": state\n",
    "    }\n",
    "    return f\"{base_url}?{'&'.join(f'{k}={v}' for k, v in params.items())}\""
   ]
  },
  {
   "cell_type": "code",
   "execution_count": 9,
   "metadata": {},
   "outputs": [],
   "source": [
    "res2 = req.get(get_authorization_url())"
   ]
  },
  {
   "cell_type": "code",
   "execution_count": 64,
   "metadata": {},
   "outputs": [],
   "source": [
    "auth1 = {\"access_token\": \"NwxtN7xncW9Gh_5IVlsT156Zyr5wwkLM9jVBIK-7xXmHW_83V8_UDYEGiWTSaBeoCeUT5sIDbpmmiBq8Mh2N9G2H_n9GlT4XEfN77rAnpnulWFC1RepZFnoks0XsdFK01fha0MZGs4e_mSuROUd_6o6zooXEhDCXEA7W65AXnpKczzqqTlZh01VPyZzMYSu-A9tdTMAIZs4-kxH82e-yQNM-gpO-WvSJLukCB2EQYZnpoxOLFVhPFq3-vGa3_krVBjlyVr-DprqjaDDFVBt_VmITmKWidEWOO8_LJXwXvsPThuvF1lhcKIZQ_K5tvCz87xl3I36UnXXhjQ4ND8gn66A1tpGZZUmvRiVMCGtvn6TBf-5FAgleP46kZrCybe9UThAO2nsTgJncduDeCB6OIbZcg4afvB1u6MTVPdBdcG8\"}"
   ]
  },
  {
   "cell_type": "code",
   "execution_count": 68,
   "metadata": {},
   "outputs": [],
   "source": [
    "user_dict = {\n",
    "    'user_id':'1696434873920451916'\n",
    "  }\n",
    "mess_dict = {\n",
    "    'text':'hello, world!'\n",
    "  }\n",
    "body = { \n",
    "  'recipient': user_dict,\n",
    "  'message': mess_dict\n",
    "}\n",
    "pos_res = req.post('https://openapi.zalo.me/v3.0/oa/message/cs', json=body, headers=auth1)"
   ]
  },
  {
   "cell_type": "code",
   "execution_count": 66,
   "metadata": {},
   "outputs": [
    {
     "data": {
      "text/plain": [
       "{'error': -201, 'message': 'Missing message params'}"
      ]
     },
     "execution_count": 66,
     "metadata": {},
     "output_type": "execute_result"
    }
   ],
   "source": [
    "pos_res.json()"
   ]
  }
 ],
 "metadata": {
  "kernelspec": {
   "display_name": "base",
   "language": "python",
   "name": "python3"
  },
  "language_info": {
   "codemirror_mode": {
    "name": "ipython",
    "version": 3
   },
   "file_extension": ".py",
   "mimetype": "text/x-python",
   "name": "python",
   "nbconvert_exporter": "python",
   "pygments_lexer": "ipython3",
   "version": "3.10.0"
  }
 },
 "nbformat": 4,
 "nbformat_minor": 2
}
